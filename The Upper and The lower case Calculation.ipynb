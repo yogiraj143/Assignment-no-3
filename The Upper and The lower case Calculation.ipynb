{
 "cells": [
  {
   "cell_type": "code",
   "execution_count": 4,
   "id": "8613106f",
   "metadata": {},
   "outputs": [],
   "source": [
    "def upper_lower(s):\n",
    "    u = sum(1 for i in s if i.isupper())\n",
    "    l = sum(1 for i in s if i.islower())\n",
    "    print(\"Sample String :\",s)\n",
    "    print('No. of Upper Characters :',u)\n",
    "    print('No.of Lower Characters :',l)"
   ]
  },
  {
   "cell_type": "code",
   "execution_count": 5,
   "id": "a894e189",
   "metadata": {},
   "outputs": [
    {
     "name": "stdout",
     "output_type": "stream",
     "text": [
      "Sample String : The quick Brow Fox\n",
      "No. of Upper Characters : 3\n",
      "No.of Lower Characters : 12\n"
     ]
    }
   ],
   "source": [
    "upper_lower('The quick Brow Fox')"
   ]
  },
  {
   "cell_type": "code",
   "execution_count": null,
   "id": "a698e934",
   "metadata": {},
   "outputs": [],
   "source": []
  }
 ],
 "metadata": {
  "kernelspec": {
   "display_name": "Python 3 (ipykernel)",
   "language": "python",
   "name": "python3"
  },
  "language_info": {
   "codemirror_mode": {
    "name": "ipython",
    "version": 3
   },
   "file_extension": ".py",
   "mimetype": "text/x-python",
   "name": "python",
   "nbconvert_exporter": "python",
   "pygments_lexer": "ipython3",
   "version": "3.9.7"
  }
 },
 "nbformat": 4,
 "nbformat_minor": 5
}
