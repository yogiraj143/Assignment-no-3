{
 "cells": [
  {
   "cell_type": "code",
   "execution_count": 1,
   "id": "ed947f82",
   "metadata": {},
   "outputs": [],
   "source": [
    "# String Inside the Function\n",
    "def reverse_string(sample_str):\n",
    "    \n",
    "    str_rev = ''\n",
    "    index = len(sample_str)\n",
    "    while index > 0:\n",
    "        str_rev += sample_str[index-1]\n",
    "        index = index-1\n",
    "    return str_rev"
   ]
  },
  {
   "cell_type": "code",
   "execution_count": 2,
   "id": "e1d7a49a",
   "metadata": {},
   "outputs": [
    {
     "name": "stdout",
     "output_type": "stream",
     "text": [
      "edcba54321\n"
     ]
    }
   ],
   "source": [
    "print(reverse_string(\"12345abcde\"))"
   ]
  },
  {
   "cell_type": "code",
   "execution_count": null,
   "id": "d0dd4145",
   "metadata": {},
   "outputs": [],
   "source": []
  }
 ],
 "metadata": {
  "kernelspec": {
   "display_name": "Python 3 (ipykernel)",
   "language": "python",
   "name": "python3"
  },
  "language_info": {
   "codemirror_mode": {
    "name": "ipython",
    "version": 3
   },
   "file_extension": ".py",
   "mimetype": "text/x-python",
   "name": "python",
   "nbconvert_exporter": "python",
   "pygments_lexer": "ipython3",
   "version": "3.9.7"
  }
 },
 "nbformat": 4,
 "nbformat_minor": 5
}
